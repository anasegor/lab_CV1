{
 "cells": [
  {
   "cell_type": "markdown",
   "metadata": {},
   "source": [
    "Найти левую и правую полосы, определить на какой полоссе находится камера, найти точку схода указанных параллельных прямых(разделительная полоса и правая)"
   ]
  },
  {
   "cell_type": "code",
   "execution_count": 1,
   "metadata": {},
   "outputs": [
    {
     "name": "stdout",
     "output_type": "stream",
     "text": [
      "Requirement already satisfied: opencv-python in c:\\users\\a_n_a\\appdata\\local\\programs\\python\\python312\\lib\\site-packages (4.11.0.86)\n",
      "Requirement already satisfied: numpy>=1.21.2 in c:\\users\\a_n_a\\appdata\\local\\programs\\python\\python312\\lib\\site-packages (from opencv-python) (1.26.3)\n"
     ]
    },
    {
     "name": "stderr",
     "output_type": "stream",
     "text": [
      "\n",
      "[notice] A new release of pip is available: 24.0 -> 25.0.1\n",
      "[notice] To update, run: python.exe -m pip install --upgrade pip\n"
     ]
    }
   ],
   "source": [
    "! pip install opencv-python"
   ]
  },
  {
   "cell_type": "code",
   "execution_count": 2,
   "metadata": {},
   "outputs": [],
   "source": [
    "import cv2\n",
    "import numpy as np\n",
    "from scipy.cluster.vq import kmeans, vq"
   ]
  },
  {
   "cell_type": "code",
   "execution_count": null,
   "metadata": {},
   "outputs": [],
   "source": [
    "def intersection_point(x1, y1, x2, y2, x3, y3, x4, y4): # координаты пересечения 2х прямых\n",
    "    m1 = (y2 - y1) / (x2 - x1) if (x2 - x1) != 0 else float('inf')\n",
    "    m2 = (y4 - y3) / (x4 - x3) if (x4 - x3) != 0 else float('inf')\n",
    "\n",
    "    b1 = y1 - m1 * x1 if m1 != float('inf') else x1\n",
    "    b2 = y3 - m2 * x3 if m2 != float('inf') else x3\n",
    "\n",
    "    if m1 == m2:\n",
    "        return None\n",
    "    \n",
    "    if m1 != float('inf') and m2 != float('inf'):\n",
    "        x = (b2 - b1) / (m1 - m2)\n",
    "        y = m1 * x + b1\n",
    "    elif m1 == float('inf'):\n",
    "        x = b1\n",
    "        y = m2 * x + b2\n",
    "    else:\n",
    "        x = b2\n",
    "        y = m1 * x + b1\n",
    "\n",
    "    return (x, y)"
   ]
  },
  {
   "cell_type": "code",
   "execution_count": null,
   "metadata": {},
   "outputs": [],
   "source": [
    "def cluster_lines(lines, k): # кластеризация на k кластеров\n",
    "    if lines is None or len(lines) < k:\n",
    "        return lines\n",
    "\n",
    "    data=[]\n",
    "    for line in lines:\n",
    "        r, theta = line[0]\n",
    "        data.append([r, theta])\n",
    "\n",
    "    data = np.array(data, dtype=np.float32)\n",
    "    centroids, _ = kmeans(data, k)\n",
    "\n",
    "    labels, _ = vq(data, centroids)\n",
    "\n",
    "    clustered_lines = []\n",
    "    for i in range(k):\n",
    "        cluster_points = data[labels == i]\n",
    "        avg_r, avg_theta = np.mean(cluster_points, axis=0)\n",
    "        clustered_lines.append([avg_r, avg_theta])\n",
    "\n",
    "    return clustered_lines"
   ]
  },
  {
   "cell_type": "markdown",
   "metadata": {},
   "source": [
    "Определим центральную и правую полосы"
   ]
  },
  {
   "cell_type": "code",
   "execution_count": null,
   "metadata": {},
   "outputs": [],
   "source": [
    "image0 = cv2.imread('./images/input.png')\n",
    "image = image0.copy()\n",
    "gray = cv2.cvtColor(image, cv2.COLOR_BGR2GRAY)\n",
    "edges = cv2.Canny(gray,550,650,apertureSize = 3)\n",
    "lines = cv2.HoughLines(edges,1,np.pi/180,200)\n",
    "final_lines = cluster_lines(lines, k=2)\n",
    "\n",
    "lines_xy=[]\n",
    "for line in final_lines:\n",
    "    rho, theta = line\n",
    "    a = np.cos(theta)\n",
    "    b = np.sin(theta)\n",
    "    x0 = a * rho\n",
    "    y0 = b * rho\n",
    "    x1 = int(x0 + 1000 * (-b))\n",
    "    y1 = int(y0 + 1000 * (a))\n",
    "    x2 = int(x0 - 1000 * (-b))\n",
    "    y2 = int(y0 - 1000 * (a))\n",
    "    lines_xy.append([x1, y1, x2, y2])\n",
    "    cv2.line(image, (x1, y1), (x2, y2), (0, 255, 0), 2)\n",
    "# cv2.imshow(\"Hough Lines\", image)\n",
    "# cv2.waitKey(0)\n",
    "# cv2.destroyAllWindows()"
   ]
  },
  {
   "cell_type": "markdown",
   "metadata": {},
   "source": [
    "Найдем и отметим точку схода"
   ]
  },
  {
   "cell_type": "code",
   "execution_count": 8,
   "metadata": {},
   "outputs": [
    {
     "data": {
      "text/plain": [
       "True"
      ]
     },
     "execution_count": 8,
     "metadata": {},
     "output_type": "execute_result"
    }
   ],
   "source": [
    "if len(final_lines) == 2:\n",
    "    rho0, theta0 = final_lines[0]\n",
    "    x1, y1, x2, y2 = lines_xy[0]\n",
    "    x3, y3, x4, y4 = lines_xy[1]\n",
    "    x, y = intersection_point(x1, y1, x2, y2, x3, y3, x4, y4)\n",
    "    cv2.circle(image, (int(x), int(y)), 10, (0, 191, 255), -1)\n",
    "cv2.imwrite('./images/output.png', image)"
   ]
  },
  {
   "cell_type": "markdown",
   "metadata": {},
   "source": [
    "Найдем левую, центральную и правую полосы, определим где находится камера"
   ]
  },
  {
   "cell_type": "code",
   "execution_count": 24,
   "metadata": {},
   "outputs": [
    {
     "name": "stdout",
     "output_type": "stream",
     "text": [
      "The camera is in the right lane\n"
     ]
    }
   ],
   "source": [
    "image1 = image0.copy()\n",
    "gray1 = cv2.cvtColor(image1, cv2.COLOR_BGR2GRAY)\n",
    "edges1 = cv2.Canny(gray1,400,650,apertureSize = 3)\n",
    "# edges_colored1 = cv2.cvtColor(edges1, cv2.COLOR_GRAY2BGR)  # Перевод в 3 канала\n",
    "# image1[edges > 0] = (0, 0, 255)\n",
    "lines1 = cv2.HoughLines(edges1,1,np.pi/180,200)\n",
    "final_lines1 = cluster_lines(lines1, k=3)\n",
    "lines_xy1=[]\n",
    "for line in final_lines1:\n",
    "    rho, theta = line\n",
    "    a = np.cos(theta)\n",
    "    b = np.sin(theta)\n",
    "    x0 = a * rho\n",
    "    y0 = b * rho\n",
    "    x1 = int(x0 + 1000 * (-b))\n",
    "    y1 = int(y0 + 1000 * (a))\n",
    "    x2 = int(x0 - 1000 * (-b))\n",
    "    y2 = int(y0 - 1000 * (a))\n",
    "    lines_xy1.append([x1, y1, x2, y2])\n",
    "    cv2.line(image1, (x1, y1), (x2, y2), (0, 255, 0), 2)\n",
    "\n",
    "line_x_positions = []\n",
    "height, width, _ = image0.shape\n",
    "x_center_image = width // 2\n",
    "\n",
    "for line in lines_xy1:\n",
    "    x1, y1, x2, y2 = line\n",
    "    x, _ = intersection_point(x1, y1, x2, y2, 0, height, x_center_image, height)\n",
    "    line_x_positions.append((x, line))\n",
    "\n",
    "line_x_positions.sort()\n",
    "x = line_x_positions[1][0]\n",
    "if (x <= x_center_image):\n",
    "    print(\"The camera is in the right lane\")\n",
    "else:\n",
    "    print(\"The camera is in the left lane\")\n"
   ]
  }
 ],
 "metadata": {
  "kernelspec": {
   "display_name": "Python 3",
   "language": "python",
   "name": "python3"
  },
  "language_info": {
   "codemirror_mode": {
    "name": "ipython",
    "version": 3
   },
   "file_extension": ".py",
   "mimetype": "text/x-python",
   "name": "python",
   "nbconvert_exporter": "python",
   "pygments_lexer": "ipython3",
   "version": "3.12.1"
  }
 },
 "nbformat": 4,
 "nbformat_minor": 2
}
